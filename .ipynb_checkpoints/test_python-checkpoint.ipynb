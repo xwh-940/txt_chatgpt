{
 "cells": [
  {
   "cell_type": "code",
   "execution_count": 62,
   "metadata": {},
   "outputs": [],
   "source": [
    "run chatgpt.py"
   ]
  },
  {
   "cell_type": "code",
   "execution_count": 64,
   "metadata": {},
   "outputs": [
    {
     "name": "stdout",
     "output_type": "stream",
     "text": [
      "{\n",
      "  \"choices\": [\n",
      "    {\n",
      "      \"finish_reason\": \"stop\",\n",
      "      \"index\": 0,\n",
      "      \"message\": {\n",
      "        \"content\": \"OpenAI\\u7684API\\u53ef\\u4ee5\\u901a\\u8fc7\\u5c06\\u4e0a\\u4e0b\\u6587\\uff08Context\\uff09\\u4fe1\\u606f\\u4f20\\u9012\\u7ed9API\\u6765\\u4fdd\\u6301\\u4e0a\\u4e0b\\u6587\\u3002\\n\\n\\u6bd4\\u5982\\uff0c\\u4f7f\\u7528OpenAI\\u7684\\u8bed\\u8a00\\u6a21\\u578bAPI\\u65f6\\uff0c\\u60a8\\u53ef\\u4ee5\\u5728API\\u8bf7\\u6c42\\u4e2d\\u4f20\\u9012\\u4e0a\\u4e0b\\u6587\\u4fe1\\u606f\\uff0c\\u544a\\u8bc9API\\u5f53\\u524d\\u5bf9\\u8bdd\\u7684\\u80cc\\u666f\\uff0c\\u8fd9\\u6837API\\u5c31\\u53ef\\u4ee5\\u66f4\\u597d\\u5730\\u7406\\u89e3\\u60a8\\u7684\\u95ee\\u9898\\u548c\\u56de\\u7b54\\u3002\\n\\n\\u4e3e\\u4e2a\\u4f8b\\u5b50\\uff0c\\u5047\\u8bbe\\u60a8\\u6b63\\u5728\\u4e0e\\u62e5\\u6709\\u4e0a\\u4e0b\\u6587\\u8bed\\u5883\\u7684\\u673a\\u5668\\u4eba\\u5bf9\\u8bdd\\u3002\\u60a8\\u53ef\\u4ee5\\u5728API\\u8bf7\\u6c42\\u4e2d\\u4f20\\u9012\\u524d\\u51e0\\u53e5\\u8bdd\\uff0c\\u544a\\u8bc9API\\u5f53\\u524d\\u7684\\u5bf9\\u8bdd\\u4e3b\\u9898\\uff0c\\u4ee5\\u4fbf\\u673a\\u5668\\u4eba\\u53ef\\u4ee5\\u66f4\\u597d\\u5730\\u56de\\u7b54\\u60a8\\u7684\\u95ee\\u9898\\u3002\\u53ef\\u4ee5\\u4f7f\\u7528\\u4ee5\\u4e0b\\u4ee3\\u7801\\u7247\\u6bb5\\u793a\\u4f8b\\u5411GPT-3\\u7684API\\u53d1\\u9001\\u4e00\\u4e2a\\u5e26\\u6709\\u4e0a\\u4e0b\\u6587\\u7684\\u6587\\u672c\\uff1a\\n\\n```\\nimport openai\\nopenai.api_key = \\\"YOUR_API_KEY\\\"\\nmodel_engine = \\\"text-babbage-001\\\"\\nprompt_text = \\\"Hello, how are you doing today?\\\"\\ncontext = \\\"I'm doing pretty good, thanks for asking. I'm actually really excited to be talking to you today, because I've been thinking about how to better understand the world around us.\\\"\\ncompletions = openai.Completion.create(\\n    engine=model_engine,\\n    prompt=prompt_text,\\n    max_tokens=1024,\\n    n=1,\\n    stop=None,\\n    temperature=0.5,\\n    frequency_penalty=0,\\n    presence_penalty=0,\\n    metadata=None,\\n    timeout=None,\\n    logprobs=None,\\n    echo=True,\\n    context=context\\n)\\nmessage = completions.choices[0].text.strip()\\nprint(message)\\n```\\n\\n\\u8fd9\\u6837\\uff0c\\u5f53\\u60a8\\u8be2\\u95ee\\u6307\\u5b9a\\u4e3b\\u9898\\u65f6\\uff0cOpenAI\\u7684API\\u53ef\\u4ee5\\u57fa\\u4e8e\\u7279\\u5b9a\\u7684\\u4e0a\\u4e0b\\u6587\\u8bed\\u5883\\u63d0\\u4f9b\\u66f4\\u597d\\u7684\\u7b54\\u6848\\u3002\",\n",
      "        \"role\": \"assistant\"\n",
      "      }\n",
      "    }\n",
      "  ],\n",
      "  \"created\": 1680796167,\n",
      "  \"id\": \"chatcmpl-72M9XBNEfZtFO7Nlh8U1ZI9kozsXM\",\n",
      "  \"model\": \"gpt-3.5-turbo-0301\",\n",
      "  \"object\": \"chat.completion\",\n",
      "  \"usage\": {\n",
      "    \"completion_tokens\": 394,\n",
      "    \"prompt_tokens\": 204,\n",
      "    \"total_tokens\": 598\n",
      "  }\n",
      "}\n"
     ]
    },
    {
     "data": {
      "text/markdown": [
       "OpenAI的API可以通过将上下文（Context）信息传递给API来保持上下文。\n",
       "\n",
       "比如，使用OpenAI的语言模型API时，您可以在API请求中传递上下文信息，告诉API当前对话的背景，这样API就可以更好地理解您的问题和回答。\n",
       "\n",
       "举个例子，假设您正在与拥有上下文语境的机器人对话。您可以在API请求中传递前几句话，告诉API当前的对话主题，以便机器人可以更好地回答您的问题。可以使用以下代码片段示例向GPT-3的API发送一个带有上下文的文本：\n",
       "\n",
       "```\n",
       "import openai\n",
       "openai.api_key = \"YOUR_API_KEY\"\n",
       "model_engine = \"text-babbage-001\"\n",
       "prompt_text = \"Hello, how are you doing today?\"\n",
       "context = \"I'm doing pretty good, thanks for asking. I'm actually really excited to be talking to you today, because I've been thinking about how to better understand the world around us.\"\n",
       "completions = openai.Completion.create(\n",
       "    engine=model_engine,\n",
       "    prompt=prompt_text,\n",
       "    max_tokens=1024,\n",
       "    n=1,\n",
       "    stop=None,\n",
       "    temperature=0.5,\n",
       "    frequency_penalty=0,\n",
       "    presence_penalty=0,\n",
       "    metadata=None,\n",
       "    timeout=None,\n",
       "    logprobs=None,\n",
       "    echo=True,\n",
       "    context=context\n",
       ")\n",
       "message = completions.choices[0].text.strip()\n",
       "print(message)\n",
       "```\n",
       "\n",
       "这样，当您询问指定主题时，OpenAI的API可以基于特定的上下文语境提供更好的答案。"
      ],
      "text/plain": [
       "<IPython.core.display.Markdown object>"
      ]
     },
     "metadata": {},
     "output_type": "display_data"
    }
   ],
   "source": [
    "#chat_gpt(\"你好\")\n",
    "chat_gpt(\"openai的api如何保持上下文\")\n"
   ]
  },
  {
   "cell_type": "code",
   "execution_count": null,
   "metadata": {},
   "outputs": [],
   "source": []
  }
 ],
 "metadata": {
  "kernelspec": {
   "display_name": "Python 3 (ipykernel)",
   "language": "python",
   "name": "python3"
  },
  "language_info": {
   "codemirror_mode": {
    "name": "ipython",
    "version": 3
   },
   "file_extension": ".py",
   "mimetype": "text/x-python",
   "name": "python",
   "nbconvert_exporter": "python",
   "pygments_lexer": "ipython3",
   "version": "3.10.9"
  }
 },
 "nbformat": 4,
 "nbformat_minor": 2
}
