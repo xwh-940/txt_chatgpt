{
 "cells": [
  {
   "cell_type": "code",
   "execution_count": 1,
   "metadata": {},
   "outputs": [],
   "source": [
    "run chatgpt.py"
   ]
  },
  {
   "cell_type": "code",
   "execution_count": 2,
   "metadata": {},
   "outputs": [
    {
     "data": {
      "text/markdown": [
       "OpenAI API保持上下文可以通过以下方式实现：\n",
       "\n",
       "1. 使用对话模型：OpenAI API提供了对话模型，这可以在用户输入之间维护上下文。使用对话模型可以在不同语义和主题之间切换，同时保持上下文。\n",
       "\n",
       "2. 缓存上下文：在API的客户端应用程序中缓存上下文，以确保API在处理多个请求时保留上下文。可以在服务器端或客户端本地存储上下文。\n",
       "\n",
       "3. 使用多轮对话：在多轮对话中，每个回复都包含先前对话的上下文。OpenAI API中的某些模型支持多轮对话，例如GPT-3。\n",
       "\n",
       "4. 维护状态：如果上下文受到用户状态的影响，则应该跟踪该状态，以使API能够在不同请求之间保留状态。例如，如果需要在对话中提供个性化建议，则必须跟踪用户的先兆和偏好。"
      ],
      "text/plain": [
       "<IPython.core.display.Markdown object>"
      ]
     },
     "metadata": {},
     "output_type": "display_data"
    }
   ],
   "source": [
    "#chat_gpt(\"你好\")\n",
    "chat_gpt(\"openai的api如何保持上下文\")\n"
   ]
  },
  {
   "cell_type": "code",
   "execution_count": 4,
   "metadata": {},
   "outputs": [
    {
     "data": {
      "text/markdown": [
       "我是一个智能聊天机器人，由OpenAI开发和提供支持。我被设计用于回答各种问题、提供信息、进行闲聊等等。请问有什么我可以帮助您的吗？"
      ],
      "text/plain": [
       "<IPython.core.display.Markdown object>"
      ]
     },
     "metadata": {},
     "output_type": "display_data"
    }
   ],
   "source": [
    "chat_gpt(\"你是谁\")"
   ]
  }
 ],
 "metadata": {
  "kernelspec": {
   "display_name": "base",
   "language": "python",
   "name": "python3"
  },
  "language_info": {
   "codemirror_mode": {
    "name": "ipython",
    "version": 3
   },
   "file_extension": ".py",
   "mimetype": "text/x-python",
   "name": "python",
   "nbconvert_exporter": "python",
   "pygments_lexer": "ipython3",
   "version": "3.10.9"
  },
  "orig_nbformat": 4
 },
 "nbformat": 4,
 "nbformat_minor": 2
}
