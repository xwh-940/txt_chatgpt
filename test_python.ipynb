{
 "cells": [
  {
   "cell_type": "code",
   "execution_count": 55,
   "metadata": {},
   "outputs": [],
   "source": [
    "import openai\n",
    "import os\n",
    "import time\n",
    "import numpy as np\n",
    "from IPython.display import display, Markdown\n",
    "# 填你的秘钥\n",
    "openai.api_key = str(np.load(\"/home/ubuntu/key_know.npy\"))\n",
    "# 作为对话记录的文件名\n",
    "run_time = str(time.strftime(\"%Y%m%d_%Hh%Mmin\", time.localtime()))\n",
    "dirs_name = \"gpt_txt/\"+run_time\n",
    "txt_print = dirs_name+\"/\"+run_time+\".txt\"\n",
    "md_print = dirs_name+\"/\"+run_time+\".md\"\n",
    "\n",
    "os.makedirs(dirs_name)\n",
    "# 保存到txt文本中的函数\n",
    "def save_txt(*arg):\n",
    "    output_writter = open(txt_print, \"a+\")\n",
    "    arg_number = len(arg)\n",
    "    # for i in range(arg_number):\n",
    "    #     print(s(arg[i])+\" \", end='')\n",
    "    # print()\n",
    "    for i in range(arg_number):\n",
    "        output_writter.write(str(arg[i])+\" \")\n",
    "    output_writter.write(\"\\n\")\n",
    "    output_writter.close()\n",
    "\n",
    "def save_md(*arg):\n",
    "    output_writter = open(md_print, \"a+\")\n",
    "    arg_number = len(arg)\n",
    "    # for i in range(arg_number):\n",
    "    #     print(s(arg[i])+\" \", end='')\n",
    "    # print()\n",
    "    for i in range(arg_number):\n",
    "        output_writter.write(str(arg[i])+\" \")\n",
    "    output_writter.write(\"\\n\")\n",
    "    output_writter.close()\n",
    "\n",
    "def save_massage():\n",
    "    np.save(dirs_name+\"/\"+run_time+\".npy\",message)\n",
    "\n",
    "# 对话变量\n",
    "message=[]\n",
    "def clean():\n",
    "    message=[]\n",
    "\n",
    "# 用户对话格式\n",
    "def user_content(txt):\n",
    "    set_n = {\"content\": txt, \"role\": \"user\"}\n",
    "    save_txt(set_n)\n",
    "    return set_n\n",
    "\n",
    "# 将用户提问纳入上文\n",
    "def chat_gpt(prompt):\n",
    "    save_md(\"User:<br>\"+prompt+\"<br>\")\n",
    "    message.append(user_content(prompt))\n",
    "    chat_gpt_func()\n",
    "\n",
    "# 提问代码\n",
    "def chat_gpt_func():\n",
    "    completion = openai.ChatCompletion.create(\n",
    "        model=\"gpt-3.5-turbo\",\n",
    "        messages=message\n",
    "    )\n",
    "    # 将gpt回答纳入上文\n",
    "    response = completion.choices[0].message\n",
    "    message.append(response)\n",
    "    save_md(\"GPT:<br>\"+response[\"content\"]+\"<br>\")\n",
    "    save_txt({\"content\":response[\"content\"],\"role\":\"assistant\"})\n",
    "    display(Markdown(response[\"content\"]))\n"
   ]
  },
  {
   "cell_type": "code",
   "execution_count": 54,
   "metadata": {},
   "outputs": [
    {
     "data": {
      "text/markdown": [
       "是的，我认识Julia编程语言。它是一种开源的高级动态编程语言，用于数值计算、数据科学和科学计算。它的语法类似于其他科学计算语言，如MATLAB和Python，但它可以通过实时编译实现无限的扩展性和性能。Julia旨在提供一种高效的方式，使得开发人员可以快速地写出高性能的代码，而不必因为性能问题而使用低级语言。Julia也是最近出现的一种语言，目前它被广泛地应用于工程、科学和学术界。"
      ],
      "text/plain": [
       "<IPython.core.display.Markdown object>"
      ]
     },
     "metadata": {},
     "output_type": "display_data"
    }
   ],
   "source": [
    "chat_gpt(\"你好\")\n",
    "chat_gpt(\"你知道julia吗\")\n"
   ]
  },
  {
   "cell_type": "code",
   "execution_count": null,
   "metadata": {},
   "outputs": [],
   "source": []
  }
 ],
 "metadata": {
  "kernelspec": {
   "display_name": "base",
   "language": "python",
   "name": "python3"
  },
  "language_info": {
   "codemirror_mode": {
    "name": "ipython",
    "version": 3
   },
   "file_extension": ".py",
   "mimetype": "text/x-python",
   "name": "python",
   "nbconvert_exporter": "python",
   "pygments_lexer": "ipython3",
   "version": "3.10.9"
  },
  "orig_nbformat": 4
 },
 "nbformat": 4,
 "nbformat_minor": 2
}
