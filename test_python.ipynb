{
 "cells": [
  {
   "cell_type": "code",
   "execution_count": 15,
   "metadata": {},
   "outputs": [],
   "source": [
    "import openai\n",
    "import time\n",
    "import numpy as np\n",
    "# 填你的秘钥\n",
    "openai.api_key = str(np.load(\"/home/ubuntu/key_know.npy\"))\n",
    "\n",
    "run_time = str(time.strftime(\"%Y%m%d_%Hh%Mmin\", time.localtime()))\n",
    "txt_print = \"gpt_txt/\"+run_time+\".txt\"\n",
    "def save_txt(*arg):\n",
    "    output_writter = open(txt_print, \"a+\")\n",
    "    arg_number = len(arg)\n",
    "    # for i in range(arg_number):\n",
    "    #     print(s(arg[i])+\" \", end='')\n",
    "    # print()\n",
    "    for i in range(arg_number):\n",
    "        output_writter.write(str(arg[i])+\" \")\n",
    "    output_writter.write(\"\\n\")\n",
    "    output_writter.close()\n",
    "\n",
    "message=[]\n",
    "def clean():\n",
    "    message=[]\n",
    "\n",
    "def user_content(txt):\n",
    "    set_n = {\"content\": txt, \"role\": \"user\"}\n",
    "    save_txt(set_n)\n",
    "    return set_n\n",
    "\n",
    "def chat_gpt(prompt):\n",
    "    message.append(user_content(prompt))\n",
    "    chat_gpt_func()\n",
    "\n",
    "# 提问代码\n",
    "def chat_gpt_func():\n",
    "    completion = openai.ChatCompletion.create(\n",
    "        model=\"gpt-3.5-turbo\",\n",
    "        messages=message\n",
    "    )\n",
    "    response = completion.choices[0].message\n",
    "    message.append(response)\n",
    "    save_txt({\"content\":response[\"content\"],\"role\":\"assistant\"})\n",
    "    print(response[\"content\"])\n"
   ]
  },
  {
   "cell_type": "code",
   "execution_count": 16,
   "metadata": {},
   "outputs": [
    {
     "name": "stdout",
     "output_type": "stream",
     "text": [
      "是的，我是一个基于Python编写的AI语言模型，可以使用Python编写程序。\n"
     ]
    }
   ],
   "source": [
    "chat_gpt(\"你会用python吗\")"
   ]
  }
 ],
 "metadata": {
  "kernelspec": {
   "display_name": "base",
   "language": "python",
   "name": "python3"
  },
  "language_info": {
   "codemirror_mode": {
    "name": "ipython",
    "version": 3
   },
   "file_extension": ".py",
   "mimetype": "text/x-python",
   "name": "python",
   "nbconvert_exporter": "python",
   "pygments_lexer": "ipython3",
   "version": "3.10.9"
  },
  "orig_nbformat": 4
 },
 "nbformat": 4,
 "nbformat_minor": 2
}
