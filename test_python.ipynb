{
 "cells": [
  {
   "cell_type": "code",
   "execution_count": 16,
   "metadata": {},
   "outputs": [],
   "source": [
    "import openai\n",
    "import time\n",
    "import numpy as np\n",
    "# 填你的秘钥\n",
    "openai.api_key = str(np.load(\"/home/ubuntu/key_know.npy\"))\n",
    "\n",
    "run_time = str(time.strftime(\"%Y%m%d_%Hh%Mmin\", time.localtime()))\n",
    "txt_print = \"gpt_txt/\"+run_time+\".txt\"\n",
    "def save_txt(*arg):\n",
    "    output_writter = open(txt_print, \"a+\")\n",
    "    arg_number = len(arg)\n",
    "    # for i in range(arg_number):\n",
    "    #     print(s(arg[i])+\" \", end='')\n",
    "    # print()\n",
    "    for i in range(arg_number):\n",
    "        output_writter.write(str(arg[i])+\" \")\n",
    "    output_writter.write(\"\\n\")\n",
    "    output_writter.close()\n",
    "\n",
    "message=[]\n",
    "def clean():\n",
    "    message=[]\n",
    "\n",
    "def user_content(txt):\n",
    "    set_n = {\"content\": txt, \"role\": \"user\"}\n",
    "    save_txt(set_n)\n",
    "    return set_n\n",
    "\n",
    "def chat_gpt(prompt):\n",
    "    message.append(user_content(prompt))\n",
    "    chat_gpt_func()\n",
    "\n",
    "# 提问代码\n",
    "def chat_gpt_func():\n",
    "    completion = openai.ChatCompletion.create(\n",
    "        model=\"gpt-3.5-turbo\",\n",
    "        messages=message\n",
    "    )\n",
    "    response = completion.choices[0].message\n",
    "    message.append(response)\n",
    "    save_txt(response)\n",
    "    print(response[\"content\"])\n"
   ]
  },
  {
   "cell_type": "code",
   "execution_count": 17,
   "metadata": {},
   "outputs": [
    {
     "name": "stdout",
     "output_type": "stream",
     "text": [
      "是的，我作为一名AI语言模型，可以使用Python进行编程和文本分析。\n"
     ]
    }
   ],
   "source": [
    "chat_gpt(\"你会用python吗\")"
   ]
  },
  {
   "cell_type": "code",
   "execution_count": 64,
   "metadata": {},
   "outputs": [
    {
     "name": "stdout",
     "output_type": "stream",
     "text": [
      "CPython是Python最广泛使用的实现之一，它的特点有：\n",
      "\n",
      "1. 解释执行：CPython通过解释器执行代码，支持交互式编程。\n",
      "\n",
      "2. 内存管理：CPython使用引用计数进行垃圾回收，并通过标记清除、分代回收等技术优化性能。\n",
      "\n",
      "3. 扩展性：CPython可以使用C/C++编写扩展模块，与其他编程语言进行交互。\n",
      "\n",
      "4. 丰富的标准库：CPython的标准库包含了很多常用的模块，例如文件操作、网络编程等。\n",
      "\n",
      "5. 可移植性：CPython可以运行在多种操作系统上，例如Windows、macOS和Linux等。\n",
      "\n",
      "6. 免费开源：CPython基于Python软件基金会的开源协议发布，每个人都可以自由使用和修改。\n"
     ]
    }
   ],
   "source": [
    "chat_gpt(\"介绍一下CPython的特点\")"
   ]
  },
  {
   "cell_type": "code",
   "execution_count": 66,
   "metadata": {},
   "outputs": [
    {
     "name": "stdout",
     "output_type": "stream",
     "text": [
      "CPython支持用C或C++编写扩展模块，以下是制作C++扩展模块的基本步骤：\n",
      "\n",
      "1. 编写C++代码：编写C++代码实现你想要的功能，并使用Python的C API来与解释器交互。\n",
      "\n",
      "2. 编写setup.py文件：在模块目录下创建setup.py文件，指定模块名称、源代码文件、编译选项等信息。\n",
      "\n",
      "3. 创建并安装模块：使用setup.py文件创建模块和安装模块。\n",
      "\n",
      "4. 导入模块：在Python代码中导入C++扩展模块，即可使用其中的函数。\n",
      "\n",
      "以下是一个简单的示例代码：\n",
      "\n",
      "```cpp\n",
      "#include <Python.h>\n",
      "\n",
      "static PyObject* myextension_hello(PyObject* self, PyObject* args) {\n",
      "    const char* name;\n",
      "    if (!PyArg_ParseTuple(args, \"s\", &name)) {\n",
      "        return NULL;\n",
      "    }\n",
      "\n",
      "    printf(\"Hello, %s!\\n\", name);\n",
      "    Py_RETURN_NONE;\n",
      "}\n",
      "\n",
      "static PyMethodDef MyExtensionMethods[] = {\n",
      "    {\"hello\", myextension_hello, METH_VARARGS, \"Print a greeting message.\"},\n",
      "    {NULL, NULL, 0, NULL}\n",
      "};\n",
      "\n",
      "static struct PyModuleDef myextensionmodule = {\n",
      "    PyModuleDef_HEAD_INIT,\n",
      "    \"myextension\",\n",
      "    \"This is a sample extension module.\",\n",
      "    -1,\n",
      "    MyExtensionMethods\n",
      "};\n",
      "\n",
      "PyMODINIT_FUNC PyInit_myextension(void) {\n",
      "    return PyModule_Create(&myextensionmodule);\n",
      "}\n",
      "```\n",
      "\n",
      "其中，\"myextension\"为模块名称，\"hello\"为该扩展模块提供的函数名称。可以在setup.py文件中编写如下的代码：\n",
      "\n",
      "```python\n",
      "from setuptools import setup, Extension\n",
      "\n",
      "setup(\n",
      "    name='myextension',\n",
      "    ext_modules=[\n",
      "        Extension('myextension', ['myextension.cpp'])\n",
      "    ]\n",
      ")\n",
      "```\n",
      "\n",
      "然后执行`python setup.py build`编译生成扩展模块，执行`python setup.py install`安装模块。最后，在Python中导入模块并调用其中的函数：\n",
      "\n",
      "```python\n",
      "import myextension\n",
      "\n",
      "myextension.hello(\"World\")\n",
      "```\n",
      "\n",
      "执行结果为：\n",
      "\n",
      "```\n",
      "Hello, World!\n",
      "```\n"
     ]
    }
   ],
   "source": [
    "chat_gpt(\"CPython如何制作C++扩展模块\")"
   ]
  },
  {
   "cell_type": "code",
   "execution_count": 68,
   "metadata": {},
   "outputs": [
    {
     "name": "stdout",
     "output_type": "stream",
     "text": [
      "涨落交换近似(Fluctuation Exchange Approximation, FLEX)是一种基于格林函数的自能微扰理论方法，用于模拟凝聚态物理中强关联的自旋系统。FLEX方法是对基于哈特里-福克哈夫(Hartree-Fock)近似的自旋密度泛函理论的修正，它可以更精确地计算自旋系统的互相作用。\n",
      "\n",
      "FLEX方法基于涨落交换(Fluctuation Exchange)近似和Dyson方程。这种方法通过涉及多个自旋的格林函数和自能线性误差项来计算自旋系统的自能，包括二阶和三阶自能修正。FLEX方法的优势在于在计算自旋相关性时能够考虑非局域性的涨落以及横向自旋涨落的贡献，从而提高了平均场理论的精度。\n",
      "\n",
      "FLEX方法在凝聚态物理中的应用非常广泛，可以用于描述各种体系的物理性质，如超导、磁性和多元稀土化合物等。它还可以用于计算各种实验测量中的物理量，如角分辨光电子能谱、原位磁性测量和中子散射等。\n",
      "\n",
      "尽管FLEX方法是一种非常强大的自旋相关性计算方法，但它的计算复杂度很高，需要大量的计算资源和高质量的输入参数。因此，它经常与其他理论和计算方法结合使用，以提高其精度和计算效率。\n"
     ]
    }
   ],
   "source": [
    "chat_gpt(\"介绍一下涨落交换近似(FLEX)\")"
   ]
  },
  {
   "cell_type": "code",
   "execution_count": 69,
   "metadata": {},
   "outputs": [
    {
     "name": "stdout",
     "output_type": "stream",
     "text": [
      "将Github当做云端备份使用的方法如下：\n",
      "\n",
      "1. 在Github上创建一个仓库用于存储备份数据，例如你可以创建一个名为backup的空仓库。\n",
      "\n",
      "2. 在需要备份的设备上安装Git。Git是一个免费、开源的分布式版本控制系统，可以让你轻松地管理和版本控制备份数据。\n",
      "\n",
      "3. 在备份设备上创建一个目录用于存放备份数据。例如你可以在根目录下创建一个名为backup的文件夹。\n",
      "\n",
      "4. 在备份目录中初始化Git仓库。\n",
      "\n",
      "   ```\n",
      "   cd backup\n",
      "   git init\n",
      "   ```\n",
      "\n",
      "5. 添加备份文件到仓库中。\n",
      "\n",
      "   ```\n",
      "   git add .\n",
      "   ```\n",
      "\n",
      "   运行此命令将会添加 backup 文件夹中的所有文件到仓库中。\n",
      "\n",
      "6. 提交备份数据到仓库中。\n",
      "\n",
      "   ```\n",
      "   git commit -m \"Initial backup.\"\n",
      "   ```\n",
      "\n",
      "   运行此命令将会将文件提交到仓库，并添加一条提交日志。\n",
      "\n",
      "7. 关联本地Git仓库和Github远程仓库。\n",
      "\n",
      "   ```\n",
      "   git remote add origin https://github.com/你的Github用户名/backup.git\n",
      "   ```\n",
      "\n",
      "   运行此命令将会关联本地的Git仓库和Github上创建的仓库。\n",
      "\n",
      "8. 将备份数据推送到Github仓库中。\n",
      "\n",
      "   ```\n",
      "   git push -u origin master\n",
      "   ```\n",
      "\n",
      "   运行此命令将会把本地仓库的代码推送到Github仓库中。\n",
      "\n",
      "9. 执行备份。\n",
      "\n",
      "   每次需要备份时，只需在备份设备上进入备份目录并执行以下命令即可：\n",
      "\n",
      "   ```\n",
      "   git add .\n",
      "   git commit -m \"Backup data.\"\n",
      "   git push\n",
      "   ```\n",
      "\n",
      "   这样就可以将备份数据添加到本地仓库中并推送到远程仓库中，以此实现云端备份。\n",
      "\n",
      "需要注意的是，Github是一个公共的代码托管平台，因此备份数据将被公开可见。如果需要保护隐私，建议使用私有仓库，该功能需要付费。\n"
     ]
    }
   ],
   "source": [
    "chat_gpt(\"如何将github当做云端备份使用\")"
   ]
  },
  {
   "cell_type": "code",
   "execution_count": 70,
   "metadata": {},
   "outputs": [
    {
     "name": "stdout",
     "output_type": "stream",
     "text": [
      "在Git中，本地登录账号是通过设置全局用户信息来实现的，可以通过以下命令来设置：\n",
      "\n",
      "1. 设置用户名：\n",
      "\n",
      "   ```\n",
      "   git config --global user.name \"你的用户名\"\n",
      "   ```\n",
      "\n",
      "2. 设置用户邮箱：\n",
      "\n",
      "   ```\n",
      "   git config --global user.email \"你的邮箱\"\n",
      "   ```\n",
      "\n",
      "   其中，用户名和邮箱需要替换为你在Github等平台上注册的用户名和邮箱。\n",
      "\n",
      "3. 查看Git配置信息：\n",
      "\n",
      "   ```\n",
      "   git config --global --list\n",
      "   ```\n",
      "\n",
      "   运行此命令将会列出Git全局配置信息，包括设置的用户名和邮箱。\n",
      "\n",
      "值得注意的是，一般来说，你的仓库默认会使用配置的全局用户信息作为提交者信息，如果在提交代码时需要使用其他信息，可以使用`--author`选项来指定具体的提交者信息，例如：\n",
      "\n",
      "```\n",
      "git commit --author=\"Your Name <your.email@example.com>\"\n",
      "```\n",
      "\n",
      "这里需要将`Your Name`和`your.email@example.com`替换成你需要使用的提交者信息。\n"
     ]
    }
   ],
   "source": [
    "chat_gpt(\"如何在git本地登录账号\")"
   ]
  },
  {
   "cell_type": "code",
   "execution_count": null,
   "metadata": {},
   "outputs": [],
   "source": []
  }
 ],
 "metadata": {
  "kernelspec": {
   "display_name": "base",
   "language": "python",
   "name": "python3"
  },
  "language_info": {
   "codemirror_mode": {
    "name": "ipython",
    "version": 3
   },
   "file_extension": ".py",
   "mimetype": "text/x-python",
   "name": "python",
   "nbconvert_exporter": "python",
   "pygments_lexer": "ipython3",
   "version": "3.10.9"
  },
  "orig_nbformat": 4
 },
 "nbformat": 4,
 "nbformat_minor": 2
}
